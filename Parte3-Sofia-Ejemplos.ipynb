{
 "cells": [
  {
   "cell_type": "markdown",
   "metadata": {
    "slideshow": {
     "slide_type": "slide"
    }
   },
   "source": [
    "![banner](images/banner.png)\n",
    "\n",
    "### Programar y Reprogramar Recursos para Docentes\n",
    "#### Fecha: 29 Octubre 2021, 13:00 a 15:00\n",
    "####  Sofía Martin, Ariel Ramos, Liliana Hurtado, Sebastián Flores"
   ]
  },
  {
   "cell_type": "markdown",
   "metadata": {
    "slideshow": {
     "slide_type": "slide"
    }
   },
   "source": [
    "## Experiencia Práctica"
   ]
  },
  {
   "cell_type": "markdown",
   "metadata": {
    "slideshow": {
     "slide_type": "slide"
    }
   },
   "source": [
    "## ¿En mi gráfica qué significa cuando cambio...?\n",
    "* Tipo de gráfico\n",
    "* Comparación entre cantidad de números\n",
    "* El signo \n",
    "* El exponente"
   ]
  },
  {
   "cell_type": "markdown",
   "metadata": {
    "slideshow": {
     "slide_type": "slide"
    }
   },
   "source": [
    "¿Para poder graficar en Python que librería importamos?"
   ]
  },
  {
   "cell_type": "code",
   "execution_count": null,
   "metadata": {},
   "outputs": [],
   "source": [
    "from matplotlib import pyplot as dibujo"
   ]
  },
  {
   "cell_type": "markdown",
   "metadata": {},
   "source": [
    "Supongamos que queremos comparar la tempratura media la Argentina entre dos años diferentes.\n",
    "\n",
    "Tomemos los datos de [temperatura media](https://climateknowledgeportal.worldbank.org/download-data) de 1991 y 2020."
   ]
  },
  {
   "cell_type": "code",
   "execution_count": null,
   "metadata": {},
   "outputs": [],
   "source": [
    "temp_1991 = [20.5,20.0,18.9,14.8,11.9,8.2,7.3,8.9,12.4,13.8,17.3,18.6]\n",
    "temp_2020 = [21.5, 20.1, 20.0, 14.9,11.0,8.3,6.4,9.7,12.5,15.5,19.0,20.3]"
   ]
  },
  {
   "cell_type": "markdown",
   "metadata": {},
   "source": [
    "Dibujemos los datos del año 1991"
   ]
  },
  {
   "cell_type": "code",
   "execution_count": null,
   "metadata": {
    "scrolled": true
   },
   "outputs": [],
   "source": [
    "dibujo.title(\"Temperaturas 1991\")\n",
    "dibujo.plot(temp_1991)\n",
    "\n",
    "dibujo.xlabel(\"Mes\")\n",
    "dibujo.ylabel(\"Valor\")\n",
    "\n",
    "dibujo.show()"
   ]
  },
  {
   "cell_type": "markdown",
   "metadata": {},
   "source": [
    "Y ahora ¿cómo comparamos entre ambos años?"
   ]
  },
  {
   "cell_type": "code",
   "execution_count": null,
   "metadata": {
    "scrolled": true
   },
   "outputs": [],
   "source": [
    "dibujo.plot(temp_1991, linewidth=3, label='1991')\n",
    "dibujo.plot(temp_2020, linestyle='dashed' , linewidth=3, label='2020')\n",
    "\n",
    "dibujo.ylabel('Temperaturas')\n",
    "dibujo.title('Comparativa de 1991 y 2020')\n",
    "#dibujo.xticks(meses)\n",
    "dibujo.xlabel('Mes')\n",
    "dibujo.legend()\n",
    "dibujo.grid(True)\n",
    "dibujo.show()"
   ]
  },
  {
   "cell_type": "markdown",
   "metadata": {},
   "source": [
    "Pongamos los nombres de los meses en lugar de los números"
   ]
  },
  {
   "cell_type": "code",
   "execution_count": null,
   "metadata": {},
   "outputs": [],
   "source": [
    "meses = ['Ene',  'Feb',  'Mar', \n",
    "         'Abr', 'May', 'Jun', \n",
    "         'Jul', 'Ago', 'Sep', \n",
    "         'Oct', 'Nov', 'Dic']"
   ]
  },
  {
   "cell_type": "code",
   "execution_count": null,
   "metadata": {
    "scrolled": true
   },
   "outputs": [],
   "source": [
    "dibujo.plot(meses, temp_1991, linewidth=3, label='1991')\n",
    "dibujo.plot(meses, temp_2020, linestyle='dashed' , linewidth=3, label='2020')\n",
    "\n",
    "dibujo.ylabel('Temperaturas')\n",
    "dibujo.title('Comparativa de 1991 y 2020')\n",
    "#dibujo.xticks(meses)\n",
    "dibujo.xlabel('Mes')\n",
    "dibujo.legend()\n",
    "dibujo.grid(True)\n",
    "dibujo.show()"
   ]
  },
  {
   "cell_type": "markdown",
   "metadata": {},
   "source": [
    "Notar:\n",
    "   * cómo se agregaron las etiquetas\n",
    "   * los tipos de [líneas](https://matplotlib.org/stable/gallery/lines_bars_and_markers/linestyles.html#sphx-glr-gallery-lines-bars-and-markers-linestyles-py) para cada año\n",
    "   "
   ]
  },
  {
   "cell_type": "markdown",
   "metadata": {},
   "source": [
    "Y si queremos graficar los datos con barras?"
   ]
  },
  {
   "cell_type": "code",
   "execution_count": null,
   "metadata": {},
   "outputs": [],
   "source": [
    "import numpy as np"
   ]
  },
  {
   "cell_type": "code",
   "execution_count": null,
   "metadata": {
    "scrolled": true
   },
   "outputs": [],
   "source": [
    "ancho = 0.35\n",
    "x = np.arange(len(temp_1991))\n",
    "fig, ax = dibujo.subplots()\n",
    "rects1 = ax.bar(x - ancho/2, temp_1991, ancho, label='1991')\n",
    "rects2 = ax.bar(x + ancho/2, temp_2020, ancho, label='2020')\n",
    "\n",
    "ax.set_ylabel('Temperaturas')\n",
    "ax.set_title('Comparativa')\n",
    "ax.set_xticks(x)\n",
    "ax.set_xticklabels(meses)\n",
    "ax.legend()\n",
    "\n",
    "#fig.tight_layout()\n",
    "\n",
    "dibujo.show()"
   ]
  },
  {
   "cell_type": "markdown",
   "metadata": {},
   "source": [
    "## Desafíos :\n",
    "* 1.1 Realizar un gráfico que compare las temperaturas de Argentina de tres años diferentes.\n"
   ]
  },
  {
   "cell_type": "markdown",
   "metadata": {},
   "source": [
    " ### <div class=\"alert alert-warning\">Variación en la cantidad de números</div>\n",
    "* La gráfica como una secuencia de rectas"
   ]
  },
  {
   "cell_type": "code",
   "execution_count": null,
   "metadata": {
    "scrolled": true
   },
   "outputs": [],
   "source": [
    "x = np.linspace(-2, 2, 10)\n",
    "\n",
    "y = x**2\n",
    "\n",
    "#dibujo.plot(x,y, 'ro')\n",
    "dibujo.plot(x,y)\n",
    "dibujo.show()"
   ]
  },
  {
   "cell_type": "markdown",
   "metadata": {},
   "source": [
    "* Cambio 10 por 50, ¿qué se modifica en la gráfica?\n",
    "* Y si utilizamos la configuración 'ro'¿ qué cambia?, cómo visualizamos los puntos?"
   ]
  },
  {
   "cell_type": "code",
   "execution_count": null,
   "metadata": {},
   "outputs": [],
   "source": [
    "import ipywidgets as widgets\n",
    "from ipywidgets import HBox, VBox\n",
    "from IPython.display import display"
   ]
  },
  {
   "cell_type": "markdown",
   "metadata": {},
   "source": [
    " ### <div class=\"alert alert-warning\">Desplazamientos verticales:</div>"
   ]
  },
  {
   "cell_type": "code",
   "execution_count": null,
   "metadata": {
    "scrolled": true
   },
   "outputs": [],
   "source": [
    "#dominio\n",
    "x = np.linspace(-50, 50)\n",
    "\n",
    "\n",
    "@widgets.interact(n=(0, 9))\n",
    "def p(n):\n",
    "    y =  x**n #codominio con n variando entre 0 y 9\n",
    "    dibujo.plot(x, y)\n",
    "    dibujo.grid(True)\n",
    "    dibujo.show()\n"
   ]
  },
  {
   "cell_type": "code",
   "execution_count": null,
   "metadata": {},
   "outputs": [],
   "source": [
    "x = np.linspace(-50, 50)\n",
    "\n",
    "\n",
    "@widgets.interact(n=(0, 1000,250))\n",
    "def p(n):\n",
    "    y = n+x**2\n",
    "    dibujo.plot(x, y)\n",
    "    dibujo.grid(True)\n",
    "    dibujo.show()\n"
   ]
  },
  {
   "cell_type": "markdown",
   "metadata": {},
   "source": [
    " ### <div class=\"alert alert-warning\">Desplazamientos horizontales:</div>"
   ]
  },
  {
   "cell_type": "code",
   "execution_count": null,
   "metadata": {},
   "outputs": [],
   "source": [
    "@widgets.interact(n=(-20, 20))\n",
    "def p(n):\n",
    "    x = np.linspace(n-50, n+50)\n",
    "    y = (x-n)**2\n",
    "    dibujo.plot(x, y)\n",
    "    dibujo.grid(True)\n",
    "    dibujo.show()\n"
   ]
  },
  {
   "cell_type": "code",
   "execution_count": null,
   "metadata": {
    "scrolled": true
   },
   "outputs": [],
   "source": [
    "x_2 = np.linspace(-5, 5)\n",
    "x_1_4 = np.linspace(-10, 10)\n",
    "x_4 = np.linspace(-2.5, 2.5)\n",
    "dibujo.figure(figsize=(10,8))\n",
    "dibujo.plot(x_2, x_2**2, linewidth=3, label='x^3')\n",
    "dibujo.plot(x_1_4, 1/4*x_1_4**2, linestyle='dashed' , linewidth=3, label='1/4*x^2')\n",
    "dibujo.plot(x_4, 4*x_4**2, linestyle='dotted' , linewidth=3, label='4*x^2')\n",
    "dibujo.legend()\n",
    "dibujo.grid(True)\n",
    "dibujo.show()"
   ]
  },
  {
   "cell_type": "code",
   "execution_count": null,
   "metadata": {},
   "outputs": [],
   "source": [
    "@widgets.interact(grado=(0, 9), N_puntos=(5,35))\n",
    "def mi_plot(grado=3, N_puntos=5):    \n",
    "    x = np.linspace(-10, 10, N_puntos)\n",
    "    y = x**grado\n",
    "    dibujo.figure(figsize=(12,8))\n",
    "    dibujo.plot(x, y, 'ro-')\n",
    "    dibujo.grid(True)\n",
    "    dibujo.show()"
   ]
  },
  {
   "cell_type": "markdown",
   "metadata": {
    "slideshow": {
     "slide_type": "slide"
    }
   },
   "source": [
    "## ¿Cómo uso Jupyter Notebook como entorno de trabajo para mis clases?\n",
    "* Alternativas: local / VPS / binder / google colab\n",
    "* Almacenando en línea: github + otros\n",
    "* ¿Cómo generar material para mi curso:\n",
    "    * Usando mi material de antes: pptx to RISE (convertir)\n",
    "    * Usando material en línea de otros profesores (enlaces).\n",
    "* Consejos: generar módulos de contenido, sabiendo los conocimientos y conceptos que se espera generar.\n",
    "* Distintas formas de evaluación: reflexión y metacognición (reconocer lo que se aprendió)\n",
    "* Preguntas (5 mins) "
   ]
  },
  {
   "cell_type": "markdown",
   "metadata": {
    "slideshow": {
     "slide_type": "slide"
    }
   },
   "source": [
    "## ¿Cómo puedo usar el entorno Jupyter?\n",
    "* En mi computadora, de forma local.\n",
    "* En un servidor de la escuela.\n",
    "* Utilizando servicios en la nube:\n",
    "    * [Binder](https://mybinder.org/)\n",
    "    * Google colab"
   ]
  },
  {
   "cell_type": "markdown",
   "metadata": {
    "slideshow": {
     "slide_type": "slide"
    }
   },
   "source": [
    "### Uso del entorno en forma local\n",
    "   * Instalar la herramienta **pip** en nuestra computadora local. Guía en español de [pip](https://tecnonucleous.com/2018/01/28/como-instalar-pip-para-python-en-windows-mac-y-linux/).\n",
    "   * Opcional **recomendada**: Instalar [virtualenv](https://virtualenv.pypa.io/en/latest/). Guía en [español](https://rukbottoland.com/blog/tutorial-de-python-virtualenv/)\n",
    "   * Instalar [Jupyter](https://jupyter.org/install): \n",
    "```console\n",
    "$pip install jupyter\n",
    "   ```\n",
    "   * [Guía de uso de Jupyter](https://nbviewer.org/github/ipython-books/minibook-2nd-code/blob/master/chapter1/13-nbui.ipynb)\n",
    "   * [Comandos avanzados de Jupyter](https://nbviewer.org/github/ipython-books/minibook-2nd-code/blob/master/chapter1/15-ten.ipynb)\n",
    "   "
   ]
  },
  {
   "cell_type": "markdown",
   "metadata": {
    "slideshow": {
     "slide_type": "subslide"
    }
   },
   "source": [
    "* Ejecutar Jupyter\n",
    "* ¿En qué directorio? -> en el directorio donde tenemos nuestro proyecto\n",
    "* ¿Dónde? -> en una terminal o cmd\n",
    "\n",
    "```console\n",
    "       $jupyter notebook\n",
    "```\n",
    "       \n",
    "       \n",
    "<img src='images/jup-local.png' width=\"400\" height=\"400\"> "
   ]
  },
  {
   "cell_type": "markdown",
   "metadata": {
    "slideshow": {
     "slide_type": "subslide"
    }
   },
   "source": [
    "¿Qué puedo hacer en forma local?\n",
    "* Ejecución en el navegador:\n",
    "    * archivos locales en el directorio donde se ejecutó\n",
    "    * formato archivos:  extensión 'ipynb'\n",
    "* Cambiar nombre\n",
    "* Crear subcarpetas\n"
   ]
  },
  {
   "cell_type": "markdown",
   "metadata": {
    "slideshow": {
     "slide_type": "slide"
    }
   },
   "source": [
    "### En un servidor remoto\n",
    "* Instalar una versión de Jupyter que permite usar en forma remota: [JupyterHub](https://jupyter.org/hub)\n",
    "    * adminsitración de usuarios\n",
    "    * espacio de trabajo propio para cada usuario\n",
    "    * control de los recursos\n",
    "    * instalación según la cantidad de usuarios\n",
    "    * versión para una instalación pequeña: [The Littlest JupyterHub](https://tljh.jupyter.org/en/latest/index.html)\n",
    "    * [video](https://www.youtube.com/watch?v=P8w0OtG2Rdw&ab_channel=YamilJaskolowski) tutorial de instalación.\n",
    "    * Ejemplo: servidor Universidad de Salta\n",
    "* Opción para utilizar almacenamiento remoto: \n",
    "    * VPS: Servidor Privado Virtual\n",
    "    * pago por uso\n",
    "    * máquina virtual remoto"
   ]
  },
  {
   "cell_type": "markdown",
   "metadata": {
    "slideshow": {
     "slide_type": "slide"
    }
   },
   "source": [
    "## Herramientas remotas en la nube\n",
    "* [Binder](https://mybinder.org/)\n",
    "    * ejecución de cuadernos Jupyter en la nube\n",
    "    * conexión con archvios de jupyter de repositorios github\n",
    "\n",
    "    "
   ]
  },
  {
   "cell_type": "markdown",
   "metadata": {
    "slideshow": {
     "slide_type": "subslide"
    }
   },
   "source": [
    "* [Colab](https://colab.research.google.com/)\n",
    "    * creación de cuadernos Jupyter\n",
    "    * incluye algunas librerías, las más usadas de Python para este tipo de programas\n",
    "    * ejemplo de uso de Jupyter\n",
    "    * cargar archivos propios\n",
    "    * conexión con archivos en repositorios de github\n",
    "    * compartir\n",
    "    <img src='images/ejem-colab.png' width=\"400\" height=\"400\">\n",
    "    "
   ]
  },
  {
   "cell_type": "markdown",
   "metadata": {
    "slideshow": {
     "slide_type": "subslide"
    }
   },
   "source": [
    "* Ejemplos:\n",
    "\n",
    "    * [Matemática diferencial](https://colab.research.google.com/github/ageron/handson-ml2/blob/master/math_differential_calculus.ipynb)\n",
    "    * [Matplotlib](https://colab.research.google.com/github/ageron/handson-ml2/blob/master/tools_matplotlib.ipynb)"
   ]
  },
  {
   "cell_type": "markdown",
   "metadata": {
    "slideshow": {
     "slide_type": "slide"
    }
   },
   "source": [
    "# Desafío:\n",
    " * Acceder al archvio compartido en [colab](https://colab.research.google.com/drive/1vcYRNgKaX_sHffhgJK_4F0kFAx_QqI7s?usp=sharing) y generar una copia propia.\n",
    " * Realizar el ejercicio propuesto con Jupyter.\n",
    " * Compartir el documento."
   ]
  },
  {
   "cell_type": "markdown",
   "metadata": {
    "slideshow": {
     "slide_type": "slide"
    }
   },
   "source": [
    "### Almacenando en línea: github + otros"
   ]
  },
  {
   "cell_type": "markdown",
   "metadata": {
    "slideshow": {
     "slide_type": "subslide"
    }
   },
   "source": [
    "### Github\n",
    "**Características**\n",
    "* Repositorios de código \n",
    "* Trabaja con la herramietna **git**, la conocen?\n",
    "* Sitio abierto y público: https://github.com/\n",
    "* Copia en computadora local\n",
    "\n",
    "\n",
    "**Permite**\n",
    "* Trabajar en grupo\n",
    "* Compartir\n",
    "\n",
    "**¿Diferencia con Drive?**\n"
   ]
  },
  {
   "cell_type": "markdown",
   "metadata": {
    "slideshow": {
     "slide_type": "subslide"
    }
   },
   "source": [
    "### ¿Cómo lo uso?\n",
    "* Crear un suario en [github](https://github.com/)\n",
    "* Configurar la clave [ssh](https://docs.github.com/en/authentication/connecting-to-github-with-ssh/generating-a-new-ssh-key-and-adding-it-to-the-ssh-agent)\n",
    "* Crear mi primer proyecto"
   ]
  },
  {
   "cell_type": "markdown",
   "metadata": {
    "slideshow": {
     "slide_type": "subslide"
    }
   },
   "source": [
    "Ejemplos de repositorios con Jupyter\n",
    "* [Introducción al lenguaje Python orientado a ingenierías y física](https://github.com/fiolj/intro-python-IB)\n",
    "* [Python científico](https://github.com/mgaitan/curso-python-cientifico)"
   ]
  },
  {
   "cell_type": "markdown",
   "metadata": {
    "slideshow": {
     "slide_type": "slide"
    }
   },
   "source": [
    "### Servicios similares a Github\n",
    "* [Gitlab](https://about.gitlab.com/)\n"
   ]
  },
  {
   "cell_type": "markdown",
   "metadata": {},
   "source": [
    "### ¿Cómo armo mi clase?\n",
    "* Cuadernos con autocontenido \n",
    "    * reutilizar\n",
    "    * ejemplos\n",
    "    * ejercicio\n",
    "    * un objetivo de conocimiento\n"
   ]
  }
 ],
 "metadata": {
  "celltoolbar": "Slideshow",
  "kernelspec": {
   "display_name": "Python 3",
   "language": "python",
   "name": "python3"
  },
  "language_info": {
   "codemirror_mode": {
    "name": "ipython",
    "version": 3
   },
   "file_extension": ".py",
   "mimetype": "text/x-python",
   "name": "python",
   "nbconvert_exporter": "python",
   "pygments_lexer": "ipython3",
   "version": "3.7.4"
  },
  "rise": {
   "autolaunch": false,
   "enable_chalkboard": false,
   "theme": "simple",
   "transition": "slide"
  }
 },
 "nbformat": 4,
 "nbformat_minor": 4
}
