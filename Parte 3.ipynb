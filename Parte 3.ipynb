{
 "cells": [
  {
   "cell_type": "code",
   "execution_count": 1,
   "metadata": {
    "slideshow": {
     "slide_type": "skip"
    }
   },
   "outputs": [
    {
     "data": {
      "text/plain": [
       "{'theme': 'sky', 'transition': 'none'}"
      ]
     },
     "execution_count": 1,
     "metadata": {},
     "output_type": "execute_result"
    }
   ],
   "source": [
    "#!/usr/bin/env python3\n",
    "from traitlets.config.manager import BaseJSONConfigManager\n",
    "from pathlib import Path\n",
    "path = Path.home() / \".jupyter\" / \"nbconfig\"\n",
    "cm = BaseJSONConfigManager(config_dir=str(path))\n",
    "cm.update(\n",
    "    \"rise\",\n",
    "    {\n",
    "        \"theme\": \"sky\",\n",
    "        \"transition\": \"none\",\n",
    "    }\n",
    ")"
   ]
  },
  {
   "cell_type": "code",
   "execution_count": 2,
   "metadata": {
    "slideshow": {
     "slide_type": "skip"
    }
   },
   "outputs": [],
   "source": [
    "%matplotlib inline"
   ]
  },
  {
   "cell_type": "markdown",
   "metadata": {
    "slideshow": {
     "slide_type": "slide"
    }
   },
   "source": [
    "## Programar y Reprogramar Recursos para Docentes (Python + Jupyter)\n",
    "\n",
    "### Fecha: 29/10/2021\n",
    "### Horario: 13 a 15 hs.\n",
    "###  Sofía Martin, Ariel Ramos, Liliana Hurtado, Sebastián Flores Benner\n",
    "\n",
    "\n",
    "<img src='images/logo-charla.png' width=\"400\" height=\"400\">\n",
    "<img src='images/logo-pyconar2021.png' width=\"400\" height=\"400\">"
   ]
  },
  {
   "cell_type": "markdown",
   "metadata": {
    "slideshow": {
     "slide_type": "slide"
    }
   },
   "source": [
    "# Parte 3:\n",
    "## ¿Cómo uso Jupyter Notebook como entorno de trabajo para mis clases? - 30 mins \n",
    "* Alternativas: local / VPS / binder / google colab\n",
    "* Almacenando en línea: github + otros\n",
    "* ¿Cómo generar material para mi curso:\n",
    "    * Usando mi material de antes: pptx to RISE (convertir)\n",
    "    * Usando material en línea de otros profesores (enlaces).\n",
    "* Consejos: generar módulos de contenido, sabiendo los conocimientos y conceptos que se espera generar.\n",
    "* Distintas formas de evaluación: reflexión y metacognición (reconocer lo que se aprendió)\n",
    "* Preguntas (5 mins) \n",
    "\n",
    "\n",
    "Las slides de la presentación están en [linktr.ee/sebastiandres](https://linktr.ee/sebastiandres)"
   ]
  },
  {
   "cell_type": "markdown",
   "metadata": {
    "slideshow": {
     "slide_type": "slide"
    }
   },
   "source": [
    "## ¿Cómo puedo usar el entorno Jupyter?\n",
    "* En mi computadora, de forma local.\n",
    "* En un servidor de la escuela.\n",
    "* Utilizando servidos en la nube:\n",
    "    * binder\n",
    "    * google colab"
   ]
  },
  {
   "cell_type": "markdown",
   "metadata": {},
   "source": [
    "### Uso del entorno en forma local\n",
    "   * Instalar la herramienta **pip** en nuestra computadora local. Guías en español de [pip](https://tecnonucleous.com/2018/01/28/como-instalar-pip-para-python-en-windows-mac-y-linux/).\n",
    "   * Opcional **recomendada**: Instalar [virtualenv](https://virtualenv.pypa.io/en/latest/). Guía en [español](https://rukbottoland.com/blog/tutorial-de-python-virtualenv/)\n",
    "   * Instalar [Jupyter](https://jupyter.org/install): \n",
    "```console\n",
    "$pip install jupyter\n",
    "   ```"
   ]
  },
  {
   "cell_type": "markdown",
   "metadata": {},
   "source": [
    "* Ejecutar Jupyter:\n",
    "\n",
    "```console\n",
    "       $jupyter notebook\n",
    "       ```"
   ]
  },
  {
   "cell_type": "markdown",
   "metadata": {},
   "source": [
    "¿Qué puedo hacer en forma local?\n",
    "* Ejecución en el navegador:\n",
    "    * archivos locales en el directorio donde se ejecutó\n",
    "    * formato archivos:  extensión 'ipynb'\n",
    "* Cambiar nombre\n",
    "* Crear subcarpetas\n"
   ]
  },
  {
   "cell_type": "markdown",
   "metadata": {},
   "source": [
    "### En un servidor remoto\n",
    "* Instalar una versión de Jupyter que permite usar en forma remota: [JupyterHub](https://jupyter.org/hub)\n",
    "    * adminsitración de usuarios\n",
    "    * espacio de trabajo propio para cada usuario\n",
    "    * control de los recursos\n",
    "    * instalación según la cantidad de usuarios\n",
    "    * versión para una instalación pequeña: [The Littlest JupyterHub](https://tljh.jupyter.org/en/latest/index.html)\n",
    "    * [video](https://www.youtube.com/watch?v=P8w0OtG2Rdw&ab_channel=YamilJaskolowski) tutorial de instalacion.\n",
    "* VPS: Servidor Privado Virtual\n",
    "    * pago por uso\n",
    "    * máquina virtual remoto"
   ]
  },
  {
   "cell_type": "markdown",
   "metadata": {},
   "source": [
    "## Herramientas remotas en la nube\n",
    "* [Binder](https://mybinder.org/)\n",
    "    * ejecución de cuadernos Jupyter en la nube\n",
    "    * conexión con archvios de jupyter de repositorios github\n",
    "* [Colab](https://colab.research.google.com/)\n",
    "    * creación de cuadernos Jupyter\n",
    "    * incluida algunas librerías más usadas de Python\n",
    "    * ejemplo de uso de Jupyter\n",
    "    * cargar archivos propios\n",
    "    * conexión con archivos en respositorios de github\n",
    "    * compartir\n",
    "    <img src='images/ejem-colab.png' width=\"400\" height=\"400\">\n",
    "    * Ejepmlos:\n",
    "        * [ Matemática diferencial](https://colab.research.google.com/github/ageron/handson-ml2/blob/master/math_differential_calculus.ipynb)\n",
    "        * [Matplotlib](https://colab.research.google.com/github/ageron/handson-ml2/blob/master/tools_matplotlib.ipynb)\n",
    "    "
   ]
  },
  {
   "cell_type": "markdown",
   "metadata": {},
   "source": [
    "# Desafío:\n",
    " * Acceder al archvio compartido en colab (link) y generar una copia propia\n",
    " * Realizar el ejercicio propuesto con Jupyter"
   ]
  },
  {
   "cell_type": "markdown",
   "metadata": {},
   "source": [
    "### Almacenando en línea: github + otros"
   ]
  },
  {
   "cell_type": "code",
   "execution_count": 1,
   "metadata": {},
   "outputs": [
    {
     "data": {
      "text/plain": [
       "['🐔', '🥚']"
      ]
     },
     "execution_count": 1,
     "metadata": {},
     "output_type": "execute_result"
    }
   ],
   "source": [
    "# Solución al problema\n",
    "# python3 permite usar unicode\n",
    "sorted(['\\N{EGG}', '\\N{CHICKEN}'])"
   ]
  },
  {
   "cell_type": "markdown",
   "metadata": {
    "slideshow": {
     "slide_type": "slide"
    }
   },
   "source": [
    "##### Conclusión\n",
    "\n",
    "## ¿Preguntas?\n",
    "\n"
   ]
  }
 ],
 "metadata": {
  "celltoolbar": "Slideshow",
  "kernelspec": {
   "display_name": "Python 3 (ipykernel)",
   "language": "python",
   "name": "python3"
  },
  "language_info": {
   "codemirror_mode": {
    "name": "ipython",
    "version": 3
   },
   "file_extension": ".py",
   "mimetype": "text/x-python",
   "name": "python",
   "nbconvert_exporter": "python",
   "pygments_lexer": "ipython3",
   "version": "3.8.10"
  }
 },
 "nbformat": 4,
 "nbformat_minor": 4
}
